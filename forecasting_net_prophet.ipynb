{
 "cells": [
  {
   "cell_type": "markdown",
   "metadata": {},
   "source": [
    "# Forecasting Net Prophet\n",
    "\n",
    "You’re a growth analyst at [MercadoLibre](http://investor.mercadolibre.com/investor-relations). With over 200 million users, MercadoLibre is the most popular e-commerce site in Latin America. You've been tasked with analyzing the company's financial and user data in clever ways to make the company grow. So, you want to find out if the ability to predict search traffic can translate into the ability to successfully trade the stock.\n",
    "\n",
    "Instructions\n",
    "\n",
    "This section divides the instructions for this Challenge into four steps and an optional fifth step, as follows:\n",
    "\n",
    "* Step 1: Find unusual patterns in hourly Google search traffic\n",
    "\n",
    "* Step 2: Mine the search traffic data for seasonality\n",
    "\n",
    "* Step 3: Relate the search traffic to stock price patterns\n",
    "\n",
    "* Step 4: Create a time series model with Prophet\n",
    "\n",
    "* Step 5 (optional): Forecast revenue by using time series models\n",
    "\n",
    "The following subsections detail these steps.\n",
    "\n",
    "## Step 1: Find Unusual Patterns in Hourly Google Search Traffic\n",
    "\n",
    "The data science manager asks if the Google search traffic for the company links to any financial events at the company. Or, does the search traffic data just present random noise? To answer this question, pick out any unusual patterns in the Google search data for the company, and connect them to the corporate financial events.\n",
    "\n",
    "To do so, complete the following steps:\n",
    "\n",
    "1. Read the search data into a DataFrame, and then slice the data to just the month of May 2020. (During this month, MercadoLibre released its quarterly financial results.) Use hvPlot to visualize the results. Do any unusual patterns exist?\n",
    "\n",
    "2. Calculate the total search traffic for the month, and then compare the value to the monthly median across all months. Did the Google search traffic increase during the month that MercadoLibre released its financial results?\n",
    "\n",
    "## Step 2: Mine the Search Traffic Data for Seasonality\n",
    "\n",
    "Marketing realizes that they can use the hourly search data, too. If they can track and predict interest in the company and its platform for any time of day, they can focus their marketing efforts around the times that have the most traffic. This will get a greater return on investment (ROI) from their marketing budget.\n",
    "\n",
    "To that end, you want to mine the search traffic data for predictable seasonal patterns of interest in the company. To do so, complete the following steps:\n",
    "\n",
    "1. Group the hourly search data to plot the average traffic by the day of the week (for example, Monday vs. Friday).\n",
    "\n",
    "2. Using hvPlot, visualize this traffic as a heatmap, referencing the `index.hour` as the x-axis and the `index.dayofweek` as the y-axis. Does any day-of-week effect that you observe concentrate in just a few hours of that day?\n",
    "\n",
    "3. Group the search data by the week of the year. Does the search traffic tend to increase during the winter holiday period (weeks 40 through 52)?\n",
    "\n",
    "## Step 3: Relate the Search Traffic to Stock Price Patterns\n",
    "\n",
    "You mention your work on the search traffic data during a meeting with people in the finance group at the company. They want to know if any relationship between the search data and the company stock price exists, and they ask if you can investigate.\n",
    "\n",
    "To do so, complete the following steps:\n",
    "\n",
    "1. Read in and plot the stock price data. Concatenate the stock price data to the search data in a single DataFrame.\n",
    "\n",
    "2. Market events emerged during the year of 2020 that many companies found difficult. But, after the initial shock to global financial markets, new customers and revenue increased for e-commerce platforms. Slice the data to just the first half of 2020 (`2020-01` to `2020-06` in the DataFrame), and then use hvPlot to plot the data. Do both time series indicate a common trend that’s consistent with this narrative?\n",
    "\n",
    "3. Create a new column in the DataFrame named “Lagged Search Trends” that offsets, or shifts, the search traffic by one hour. Create two additional columns:\n",
    "\n",
    "    * “Stock Volatility”, which holds an exponentially weighted four-hour rolling average of the company’s stock volatility\n",
    "\n",
    "    * “Hourly Stock Return”, which holds the percent change of the company's stock price on an hourly basis\n",
    "\n",
    "4. Review the time series correlation, and then answer the following question: Does a predictable relationship exist between the lagged search traffic and the stock volatility or between the lagged search traffic and the stock price returns?\n",
    "\n",
    "## Step 4: Create a Time Series Model with Prophet\n",
    "\n",
    "Now, you need to produce a time series model that analyzes and forecasts patterns in the hourly search data. To do so, complete the following steps:\n",
    "\n",
    "1. Set up the Google search data for a Prophet forecasting model.\n",
    "\n",
    "2. After estimating the model, plot the forecast. How's the near-term forecast for the popularity of MercadoLibre?\n",
    "\n",
    "3. Plot the individual time series components of the model to answer the following questions:\n",
    "\n",
    "    * What time of day exhibits the greatest popularity?\n",
    "\n",
    "    * Which day of the week gets the most search traffic?\n",
    "\n",
    "    * What's the lowest point for search traffic in the calendar year?\n",
    "\n",
    "## Step 5 (Optional): Forecast Revenue by Using Time Series Models\n",
    "\n",
    "A few weeks after your initial analysis, the finance group follows up to find out if you can help them solve a different problem. Your fame as a growth analyst in the company continues to grow!\n",
    "\n",
    "Specifically, the finance group wants a forecast of the total sales for the next quarter. This will dramatically increase their ability to plan budgets and to help guide expectations for the company investors.\n",
    "\n",
    "To do so, complete the following steps:\n",
    "\n",
    "1. Read in the daily historical sales (that is, revenue) figures, and then apply a Prophet model to the data.\n",
    "\n",
    "2. Interpret the model output to identify any seasonal patterns in the company's revenue. For example, what are the peak revenue days? (Mondays? Fridays? Something else?)\n",
    "\n",
    "3. Produce a sales forecast for the finance group. Give them a number for the expected total sales in the next quarter. Include the best- and worst-case scenarios to help them make better plans.\n"
   ]
  },
  {
   "cell_type": "markdown",
   "metadata": {},
   "source": [
    "## Install and import the required libraries and dependencies"
   ]
  },
  {
   "cell_type": "code",
   "execution_count": 1,
   "metadata": {},
   "outputs": [
    {
     "name": "stdout",
     "output_type": "stream",
     "text": [
      "Collecting pystan\n",
      "  Downloading pystan-3.3.0-py3-none-any.whl (13 kB)\n",
      "Requirement already satisfied: aiohttp<4.0,>=3.6 in /Users/charlotte/opt/anaconda3/envs/dev/lib/python3.7/site-packages (from pystan) (3.8.3)\n",
      "Collecting pysimdjson<4.0,>=3.2\n",
      "  Downloading pysimdjson-3.2.0-cp37-cp37m-macosx_10_14_x86_64.whl (195 kB)\n",
      "\u001b[2K     \u001b[38;2;114;156;31m━━━━━━━━━━━━━━━━━━━━━━━━━━━━━━━━━━━━━━━\u001b[0m \u001b[32m195.2/195.2 kB\u001b[0m \u001b[31m2.1 MB/s\u001b[0m eta \u001b[36m0:00:00\u001b[0m[31m2.1 MB/s\u001b[0m eta \u001b[36m0:00:01\u001b[0m\n",
      "\u001b[?25hCollecting clikit<0.7,>=0.6\n",
      "  Downloading clikit-0.6.2-py2.py3-none-any.whl (91 kB)\n",
      "\u001b[2K     \u001b[38;2;114;156;31m━━━━━━━━━━━━━━━━━━━━━━━━━━━━━━━━━━━━━━━━\u001b[0m \u001b[32m91.8/91.8 kB\u001b[0m \u001b[31m8.4 MB/s\u001b[0m eta \u001b[36m0:00:00\u001b[0m\n",
      "\u001b[?25hCollecting httpstan<4.7,>=4.6\n",
      "  Downloading httpstan-4.6.1-cp37-cp37m-macosx_10_16_x86_64.whl (34.3 MB)\n",
      "\u001b[2K     \u001b[38;2;114;156;31m━━━━━━━━━━━━━━━━━━━━━━━━━━━━━━━━━━━━━━━━\u001b[0m \u001b[32m34.3/34.3 MB\u001b[0m \u001b[31m10.8 MB/s\u001b[0m eta \u001b[36m0:00:00\u001b[0mm eta \u001b[36m0:00:01\u001b[0m[36m0:00:01\u001b[0m\n",
      "\u001b[?25hRequirement already satisfied: numpy<2.0,>=1.7 in /Users/charlotte/opt/anaconda3/envs/dev/lib/python3.7/site-packages (from pystan) (1.21.5)\n",
      "Requirement already satisfied: multidict<7.0,>=4.5 in /Users/charlotte/opt/anaconda3/envs/dev/lib/python3.7/site-packages (from aiohttp<4.0,>=3.6->pystan) (6.0.2)\n",
      "Requirement already satisfied: asynctest==0.13.0 in /Users/charlotte/opt/anaconda3/envs/dev/lib/python3.7/site-packages (from aiohttp<4.0,>=3.6->pystan) (0.13.0)\n",
      "Requirement already satisfied: yarl<2.0,>=1.0 in /Users/charlotte/opt/anaconda3/envs/dev/lib/python3.7/site-packages (from aiohttp<4.0,>=3.6->pystan) (1.7.2)\n",
      "Requirement already satisfied: async-timeout<5.0,>=4.0.0a3 in /Users/charlotte/opt/anaconda3/envs/dev/lib/python3.7/site-packages (from aiohttp<4.0,>=3.6->pystan) (4.0.2)\n",
      "Requirement already satisfied: frozenlist>=1.1.1 in /Users/charlotte/opt/anaconda3/envs/dev/lib/python3.7/site-packages (from aiohttp<4.0,>=3.6->pystan) (1.3.3)\n",
      "Requirement already satisfied: aiosignal>=1.1.2 in /Users/charlotte/opt/anaconda3/envs/dev/lib/python3.7/site-packages (from aiohttp<4.0,>=3.6->pystan) (1.3.1)\n",
      "Requirement already satisfied: attrs>=17.3.0 in /Users/charlotte/opt/anaconda3/envs/dev/lib/python3.7/site-packages (from aiohttp<4.0,>=3.6->pystan) (22.1.0)\n",
      "Requirement already satisfied: charset-normalizer<3.0,>=2.0 in /Users/charlotte/opt/anaconda3/envs/dev/lib/python3.7/site-packages (from aiohttp<4.0,>=3.6->pystan) (2.1.1)\n",
      "Requirement already satisfied: typing-extensions>=3.7.4 in /Users/charlotte/opt/anaconda3/envs/dev/lib/python3.7/site-packages (from aiohttp<4.0,>=3.6->pystan) (4.4.0)\n",
      "Collecting pastel<0.3.0,>=0.2.0\n",
      "  Downloading pastel-0.2.1-py2.py3-none-any.whl (6.0 kB)\n",
      "Collecting crashtest<0.4.0,>=0.3.0\n",
      "  Downloading crashtest-0.3.1-py3-none-any.whl (7.0 kB)\n",
      "Collecting pylev<2.0,>=1.3\n",
      "  Downloading pylev-1.4.0-py2.py3-none-any.whl (6.1 kB)\n",
      "Requirement already satisfied: setuptools>=41.0 in /Users/charlotte/opt/anaconda3/envs/dev/lib/python3.7/site-packages (from httpstan<4.7,>=4.6->pystan) (59.8.0)\n",
      "Collecting webargs<9.0,>=8.0\n",
      "  Downloading webargs-8.2.0-py3-none-any.whl (30 kB)\n",
      "Requirement already satisfied: appdirs<2.0,>=1.4 in /Users/charlotte/opt/anaconda3/envs/dev/lib/python3.7/site-packages (from httpstan<4.7,>=4.6->pystan) (1.4.4)\n",
      "Collecting marshmallow<4.0,>=3.10\n",
      "  Downloading marshmallow-3.19.0-py3-none-any.whl (49 kB)\n",
      "\u001b[2K     \u001b[38;2;114;156;31m━━━━━━━━━━━━━━━━━━━━━━━━━━━━━━━━━━━━━━━━\u001b[0m \u001b[32m49.1/49.1 kB\u001b[0m \u001b[31m8.2 MB/s\u001b[0m eta \u001b[36m0:00:00\u001b[0m\n",
      "\u001b[?25hRequirement already satisfied: packaging>=17.0 in /Users/charlotte/opt/anaconda3/envs/dev/lib/python3.7/site-packages (from marshmallow<4.0,>=3.10->httpstan<4.7,>=4.6->pystan) (22.0)\n",
      "Requirement already satisfied: idna>=2.0 in /Users/charlotte/opt/anaconda3/envs/dev/lib/python3.7/site-packages (from yarl<2.0,>=1.0->aiohttp<4.0,>=3.6->pystan) (3.4)\n",
      "Installing collected packages: pylev, pysimdjson, pastel, marshmallow, crashtest, webargs, clikit, httpstan, pystan\n",
      "Successfully installed clikit-0.6.2 crashtest-0.3.1 httpstan-4.6.1 marshmallow-3.19.0 pastel-0.2.1 pylev-1.4.0 pysimdjson-3.2.0 pystan-3.3.0 webargs-8.2.0\n",
      "Collecting prophet\n",
      "  Downloading prophet-1.1.1-cp37-cp37m-macosx_10_9_x86_64.whl (6.8 MB)\n",
      "\u001b[2K     \u001b[38;2;114;156;31m━━━━━━━━━━━━━━━━━━━━━━━━━━━━━━━━━━━━━━━━\u001b[0m \u001b[32m6.8/6.8 MB\u001b[0m \u001b[31m6.2 MB/s\u001b[0m eta \u001b[36m0:00:00\u001b[0mm eta \u001b[36m0:00:01\u001b[0m[36m0:00:01\u001b[0m\n",
      "\u001b[?25hRequirement already satisfied: matplotlib>=2.0.0 in /Users/charlotte/opt/anaconda3/envs/dev/lib/python3.7/site-packages (from prophet) (3.2.2)\n",
      "Requirement already satisfied: numpy>=1.15.4 in /Users/charlotte/opt/anaconda3/envs/dev/lib/python3.7/site-packages (from prophet) (1.21.5)\n",
      "Requirement already satisfied: pandas>=1.0.4 in /Users/charlotte/opt/anaconda3/envs/dev/lib/python3.7/site-packages (from prophet) (1.2.3)\n",
      "Collecting LunarCalendar>=0.0.9\n",
      "  Downloading LunarCalendar-0.0.9-py2.py3-none-any.whl (18 kB)\n",
      "Collecting setuptools-git>=1.2\n",
      "  Using cached setuptools_git-1.2-py2.py3-none-any.whl (10 kB)\n",
      "Requirement already satisfied: python-dateutil>=2.8.0 in /Users/charlotte/opt/anaconda3/envs/dev/lib/python3.7/site-packages (from prophet) (2.8.2)\n",
      "Collecting cmdstanpy>=1.0.4\n",
      "  Downloading cmdstanpy-1.0.8-py3-none-any.whl (81 kB)\n",
      "\u001b[2K     \u001b[38;2;114;156;31m━━━━━━━━━━━━━━━━━━━━━━━━━━━━━━━━━━━━━━━━\u001b[0m \u001b[32m81.2/81.2 kB\u001b[0m \u001b[31m7.8 MB/s\u001b[0m eta \u001b[36m0:00:00\u001b[0m\n",
      "\u001b[?25hCollecting holidays>=0.14.2\n",
      "  Downloading holidays-0.17.2-py3-none-any.whl (187 kB)\n",
      "\u001b[2K     \u001b[38;2;114;156;31m━━━━━━━━━━━━━━━━━━━━━━━━━━━━━━━━━━━━━━━\u001b[0m \u001b[32m187.5/187.5 kB\u001b[0m \u001b[31m9.3 MB/s\u001b[0m eta \u001b[36m0:00:00\u001b[0m\n",
      "\u001b[?25hRequirement already satisfied: setuptools>=42 in /Users/charlotte/opt/anaconda3/envs/dev/lib/python3.7/site-packages (from prophet) (59.8.0)\n",
      "Requirement already satisfied: wheel>=0.37.0 in /Users/charlotte/opt/anaconda3/envs/dev/lib/python3.7/site-packages (from prophet) (0.38.4)\n",
      "Collecting convertdate>=2.1.2\n",
      "  Downloading convertdate-2.4.0-py3-none-any.whl (47 kB)\n",
      "\u001b[2K     \u001b[38;2;114;156;31m━━━━━━━━━━━━━━━━━━━━━━━━━━━━━━━━━━━━━━━━\u001b[0m \u001b[32m47.9/47.9 kB\u001b[0m \u001b[31m5.5 MB/s\u001b[0m eta \u001b[36m0:00:00\u001b[0m\n",
      "\u001b[?25hRequirement already satisfied: tqdm>=4.36.1 in /Users/charlotte/opt/anaconda3/envs/dev/lib/python3.7/site-packages (from prophet) (4.64.1)\n",
      "Collecting pymeeus<=1,>=0.3.13\n",
      "  Downloading PyMeeus-0.5.12.tar.gz (5.8 MB)\n",
      "\u001b[2K     \u001b[38;2;114;156;31m━━━━━━━━━━━━━━━━━━━━━━━━━━━━━━━━━━━━━━━━\u001b[0m \u001b[32m5.8/5.8 MB\u001b[0m \u001b[31m9.1 MB/s\u001b[0m eta \u001b[36m0:00:00\u001b[0m[31m9.3 MB/s\u001b[0m eta \u001b[36m0:00:01\u001b[0mm\n",
      "\u001b[?25h  Preparing metadata (setup.py) ... \u001b[?25ldone\n",
      "\u001b[?25hCollecting hijri-converter\n",
      "  Downloading hijri_converter-2.2.4-py3-none-any.whl (14 kB)\n",
      "Collecting korean-lunar-calendar\n",
      "  Downloading korean_lunar_calendar-0.3.1-py3-none-any.whl (9.0 kB)\n",
      "Collecting ephem>=3.7.5.3\n",
      "  Downloading ephem-4.1.4-cp37-cp37m-macosx_10_9_x86_64.whl (1.4 MB)\n",
      "\u001b[2K     \u001b[38;2;114;156;31m━━━━━━━━━━━━━━━━━━━━━━━━━━━━━━━━━━━━━━━━\u001b[0m \u001b[32m1.4/1.4 MB\u001b[0m \u001b[31m8.8 MB/s\u001b[0m eta \u001b[36m0:00:00\u001b[0mm eta \u001b[36m0:00:01\u001b[0m00:01\u001b[0m\n",
      "\u001b[?25hRequirement already satisfied: pytz in /Users/charlotte/opt/anaconda3/envs/dev/lib/python3.7/site-packages (from LunarCalendar>=0.0.9->prophet) (2022.6)\n",
      "Requirement already satisfied: cycler>=0.10 in /Users/charlotte/opt/anaconda3/envs/dev/lib/python3.7/site-packages (from matplotlib>=2.0.0->prophet) (0.11.0)\n",
      "Requirement already satisfied: pyparsing!=2.0.4,!=2.1.2,!=2.1.6,>=2.0.1 in /Users/charlotte/opt/anaconda3/envs/dev/lib/python3.7/site-packages (from matplotlib>=2.0.0->prophet) (3.0.9)\n",
      "Requirement already satisfied: kiwisolver>=1.0.1 in /Users/charlotte/opt/anaconda3/envs/dev/lib/python3.7/site-packages (from matplotlib>=2.0.0->prophet) (1.4.4)\n",
      "Requirement already satisfied: six>=1.5 in /Users/charlotte/opt/anaconda3/envs/dev/lib/python3.7/site-packages (from python-dateutil>=2.8.0->prophet) (1.16.0)\n",
      "Requirement already satisfied: typing-extensions in /Users/charlotte/opt/anaconda3/envs/dev/lib/python3.7/site-packages (from kiwisolver>=1.0.1->matplotlib>=2.0.0->prophet) (4.4.0)\n",
      "Building wheels for collected packages: pymeeus\n",
      "  Building wheel for pymeeus (setup.py) ... \u001b[?25ldone\n",
      "\u001b[?25h  Created wheel for pymeeus: filename=PyMeeus-0.5.12-py3-none-any.whl size=732015 sha256=75a44e9e967e7c030c39c2e2454fec16bdf322d130493549cfe619746afd4978\n",
      "  Stored in directory: /Users/charlotte/Library/Caches/pip/wheels/80/11/82/146513e81cf4efcc994780a5f4c25387d66894c4d139c62b74\n",
      "Successfully built pymeeus\n"
     ]
    },
    {
     "name": "stdout",
     "output_type": "stream",
     "text": [
      "Installing collected packages: setuptools-git, pymeeus, korean-lunar-calendar, ephem, hijri-converter, convertdate, LunarCalendar, holidays, cmdstanpy, prophet\n",
      "Successfully installed LunarCalendar-0.0.9 cmdstanpy-1.0.8 convertdate-2.4.0 ephem-4.1.4 hijri-converter-2.2.4 holidays-0.17.2 korean-lunar-calendar-0.3.1 prophet-1.1.1 pymeeus-0.5.12 setuptools-git-1.2\n",
      "Requirement already satisfied: hvplot in /Users/charlotte/opt/anaconda3/envs/dev/lib/python3.7/site-packages (0.8.2)\n",
      "Requirement already satisfied: holoviews>=1.11.0 in /Users/charlotte/opt/anaconda3/envs/dev/lib/python3.7/site-packages (from hvplot) (1.15.3)\n",
      "Requirement already satisfied: bokeh>=1.0.0 in /Users/charlotte/opt/anaconda3/envs/dev/lib/python3.7/site-packages (from hvplot) (2.4.3)\n",
      "Requirement already satisfied: packaging in /Users/charlotte/opt/anaconda3/envs/dev/lib/python3.7/site-packages (from hvplot) (22.0)\n",
      "Requirement already satisfied: panel>=0.11.0 in /Users/charlotte/opt/anaconda3/envs/dev/lib/python3.7/site-packages (from hvplot) (0.14.2)\n",
      "Requirement already satisfied: numpy>=1.15 in /Users/charlotte/opt/anaconda3/envs/dev/lib/python3.7/site-packages (from hvplot) (1.21.5)\n",
      "Requirement already satisfied: pandas in /Users/charlotte/opt/anaconda3/envs/dev/lib/python3.7/site-packages (from hvplot) (1.2.3)\n",
      "Requirement already satisfied: colorcet>=2 in /Users/charlotte/opt/anaconda3/envs/dev/lib/python3.7/site-packages (from hvplot) (3.0.1)\n",
      "Requirement already satisfied: Jinja2>=2.9 in /Users/charlotte/opt/anaconda3/envs/dev/lib/python3.7/site-packages (from bokeh>=1.0.0->hvplot) (3.1.2)\n",
      "Requirement already satisfied: typing-extensions>=3.10.0 in /Users/charlotte/opt/anaconda3/envs/dev/lib/python3.7/site-packages (from bokeh>=1.0.0->hvplot) (4.4.0)\n",
      "Requirement already satisfied: tornado>=5.1 in /Users/charlotte/opt/anaconda3/envs/dev/lib/python3.7/site-packages (from bokeh>=1.0.0->hvplot) (6.2)\n",
      "Requirement already satisfied: PyYAML>=3.10 in /Users/charlotte/opt/anaconda3/envs/dev/lib/python3.7/site-packages (from bokeh>=1.0.0->hvplot) (6.0)\n",
      "Requirement already satisfied: pillow>=7.1.0 in /Users/charlotte/opt/anaconda3/envs/dev/lib/python3.7/site-packages (from bokeh>=1.0.0->hvplot) (9.2.0)\n",
      "Requirement already satisfied: pyct>=0.4.4 in /Users/charlotte/opt/anaconda3/envs/dev/lib/python3.7/site-packages (from colorcet>=2->hvplot) (0.4.6)\n",
      "Requirement already satisfied: param<2.0,>=1.9.3 in /Users/charlotte/opt/anaconda3/envs/dev/lib/python3.7/site-packages (from holoviews>=1.11.0->hvplot) (1.12.3)\n",
      "Requirement already satisfied: pyviz-comms>=0.7.4 in /Users/charlotte/opt/anaconda3/envs/dev/lib/python3.7/site-packages (from holoviews>=1.11.0->hvplot) (2.2.1)\n",
      "Requirement already satisfied: python-dateutil>=2.7.3 in /Users/charlotte/opt/anaconda3/envs/dev/lib/python3.7/site-packages (from pandas->hvplot) (2.8.2)\n",
      "Requirement already satisfied: pytz>=2017.3 in /Users/charlotte/opt/anaconda3/envs/dev/lib/python3.7/site-packages (from pandas->hvplot) (2022.6)\n",
      "Requirement already satisfied: tqdm>=4.48.0 in /Users/charlotte/opt/anaconda3/envs/dev/lib/python3.7/site-packages (from panel>=0.11.0->hvplot) (4.64.1)\n",
      "Requirement already satisfied: bleach in /Users/charlotte/opt/anaconda3/envs/dev/lib/python3.7/site-packages (from panel>=0.11.0->hvplot) (5.0.1)\n",
      "Requirement already satisfied: requests in /Users/charlotte/opt/anaconda3/envs/dev/lib/python3.7/site-packages (from panel>=0.11.0->hvplot) (2.28.1)\n",
      "Requirement already satisfied: setuptools>=42 in /Users/charlotte/opt/anaconda3/envs/dev/lib/python3.7/site-packages (from panel>=0.11.0->hvplot) (59.8.0)\n",
      "Requirement already satisfied: markdown in /Users/charlotte/opt/anaconda3/envs/dev/lib/python3.7/site-packages (from panel>=0.11.0->hvplot) (3.4.1)\n",
      "Requirement already satisfied: MarkupSafe>=2.0 in /Users/charlotte/opt/anaconda3/envs/dev/lib/python3.7/site-packages (from Jinja2>=2.9->bokeh>=1.0.0->hvplot) (2.1.1)\n",
      "Requirement already satisfied: six>=1.5 in /Users/charlotte/opt/anaconda3/envs/dev/lib/python3.7/site-packages (from python-dateutil>=2.7.3->pandas->hvplot) (1.16.0)\n",
      "Requirement already satisfied: webencodings in /Users/charlotte/opt/anaconda3/envs/dev/lib/python3.7/site-packages (from bleach->panel>=0.11.0->hvplot) (0.5.1)\n",
      "Requirement already satisfied: importlib-metadata>=4.4 in /Users/charlotte/opt/anaconda3/envs/dev/lib/python3.7/site-packages (from markdown->panel>=0.11.0->hvplot) (4.11.4)\n",
      "Requirement already satisfied: charset-normalizer<3,>=2 in /Users/charlotte/opt/anaconda3/envs/dev/lib/python3.7/site-packages (from requests->panel>=0.11.0->hvplot) (2.1.1)\n",
      "Requirement already satisfied: certifi>=2017.4.17 in /Users/charlotte/opt/anaconda3/envs/dev/lib/python3.7/site-packages (from requests->panel>=0.11.0->hvplot) (2022.6.15)\n",
      "Requirement already satisfied: urllib3<1.27,>=1.21.1 in /Users/charlotte/opt/anaconda3/envs/dev/lib/python3.7/site-packages (from requests->panel>=0.11.0->hvplot) (1.26.13)\n",
      "Requirement already satisfied: idna<4,>=2.5 in /Users/charlotte/opt/anaconda3/envs/dev/lib/python3.7/site-packages (from requests->panel>=0.11.0->hvplot) (3.4)\n",
      "Requirement already satisfied: zipp>=0.5 in /Users/charlotte/opt/anaconda3/envs/dev/lib/python3.7/site-packages (from importlib-metadata>=4.4->markdown->panel>=0.11.0->hvplot) (3.11.0)\n",
      "Requirement already satisfied: holoviews in /Users/charlotte/opt/anaconda3/envs/dev/lib/python3.7/site-packages (1.15.3)\n",
      "Requirement already satisfied: param<2.0,>=1.9.3 in /Users/charlotte/opt/anaconda3/envs/dev/lib/python3.7/site-packages (from holoviews) (1.12.3)\n",
      "Requirement already satisfied: colorcet in /Users/charlotte/opt/anaconda3/envs/dev/lib/python3.7/site-packages (from holoviews) (3.0.1)\n",
      "Requirement already satisfied: packaging in /Users/charlotte/opt/anaconda3/envs/dev/lib/python3.7/site-packages (from holoviews) (22.0)\n",
      "Requirement already satisfied: pandas>=0.20.0 in /Users/charlotte/opt/anaconda3/envs/dev/lib/python3.7/site-packages (from holoviews) (1.2.3)\n",
      "Requirement already satisfied: numpy>=1.0 in /Users/charlotte/opt/anaconda3/envs/dev/lib/python3.7/site-packages (from holoviews) (1.21.5)\n",
      "Requirement already satisfied: panel>=0.13.1 in /Users/charlotte/opt/anaconda3/envs/dev/lib/python3.7/site-packages (from holoviews) (0.14.2)\n",
      "Requirement already satisfied: pyviz-comms>=0.7.4 in /Users/charlotte/opt/anaconda3/envs/dev/lib/python3.7/site-packages (from holoviews) (2.2.1)\n",
      "Requirement already satisfied: python-dateutil>=2.7.3 in /Users/charlotte/opt/anaconda3/envs/dev/lib/python3.7/site-packages (from pandas>=0.20.0->holoviews) (2.8.2)\n",
      "Requirement already satisfied: pytz>=2017.3 in /Users/charlotte/opt/anaconda3/envs/dev/lib/python3.7/site-packages (from pandas>=0.20.0->holoviews) (2022.6)\n",
      "Requirement already satisfied: bleach in /Users/charlotte/opt/anaconda3/envs/dev/lib/python3.7/site-packages (from panel>=0.13.1->holoviews) (5.0.1)\n",
      "Requirement already satisfied: setuptools>=42 in /Users/charlotte/opt/anaconda3/envs/dev/lib/python3.7/site-packages (from panel>=0.13.1->holoviews) (59.8.0)\n",
      "Requirement already satisfied: typing-extensions in /Users/charlotte/opt/anaconda3/envs/dev/lib/python3.7/site-packages (from panel>=0.13.1->holoviews) (4.4.0)\n",
      "Requirement already satisfied: tqdm>=4.48.0 in /Users/charlotte/opt/anaconda3/envs/dev/lib/python3.7/site-packages (from panel>=0.13.1->holoviews) (4.64.1)\n",
      "Requirement already satisfied: pyct>=0.4.4 in /Users/charlotte/opt/anaconda3/envs/dev/lib/python3.7/site-packages (from panel>=0.13.1->holoviews) (0.4.6)\n",
      "Requirement already satisfied: requests in /Users/charlotte/opt/anaconda3/envs/dev/lib/python3.7/site-packages (from panel>=0.13.1->holoviews) (2.28.1)\n",
      "Requirement already satisfied: bokeh<2.5.0,>=2.4.0 in /Users/charlotte/opt/anaconda3/envs/dev/lib/python3.7/site-packages (from panel>=0.13.1->holoviews) (2.4.3)\n",
      "Requirement already satisfied: markdown in /Users/charlotte/opt/anaconda3/envs/dev/lib/python3.7/site-packages (from panel>=0.13.1->holoviews) (3.4.1)\n",
      "Requirement already satisfied: PyYAML>=3.10 in /Users/charlotte/opt/anaconda3/envs/dev/lib/python3.7/site-packages (from bokeh<2.5.0,>=2.4.0->panel>=0.13.1->holoviews) (6.0)\n",
      "Requirement already satisfied: Jinja2>=2.9 in /Users/charlotte/opt/anaconda3/envs/dev/lib/python3.7/site-packages (from bokeh<2.5.0,>=2.4.0->panel>=0.13.1->holoviews) (3.1.2)\n",
      "Requirement already satisfied: pillow>=7.1.0 in /Users/charlotte/opt/anaconda3/envs/dev/lib/python3.7/site-packages (from bokeh<2.5.0,>=2.4.0->panel>=0.13.1->holoviews) (9.2.0)\n",
      "Requirement already satisfied: tornado>=5.1 in /Users/charlotte/opt/anaconda3/envs/dev/lib/python3.7/site-packages (from bokeh<2.5.0,>=2.4.0->panel>=0.13.1->holoviews) (6.2)\n",
      "Requirement already satisfied: six>=1.5 in /Users/charlotte/opt/anaconda3/envs/dev/lib/python3.7/site-packages (from python-dateutil>=2.7.3->pandas>=0.20.0->holoviews) (1.16.0)\n",
      "Requirement already satisfied: webencodings in /Users/charlotte/opt/anaconda3/envs/dev/lib/python3.7/site-packages (from bleach->panel>=0.13.1->holoviews) (0.5.1)\n",
      "Requirement already satisfied: importlib-metadata>=4.4 in /Users/charlotte/opt/anaconda3/envs/dev/lib/python3.7/site-packages (from markdown->panel>=0.13.1->holoviews) (4.11.4)\n",
      "Requirement already satisfied: charset-normalizer<3,>=2 in /Users/charlotte/opt/anaconda3/envs/dev/lib/python3.7/site-packages (from requests->panel>=0.13.1->holoviews) (2.1.1)\n",
      "Requirement already satisfied: urllib3<1.27,>=1.21.1 in /Users/charlotte/opt/anaconda3/envs/dev/lib/python3.7/site-packages (from requests->panel>=0.13.1->holoviews) (1.26.13)\n",
      "Requirement already satisfied: certifi>=2017.4.17 in /Users/charlotte/opt/anaconda3/envs/dev/lib/python3.7/site-packages (from requests->panel>=0.13.1->holoviews) (2022.6.15)\n",
      "Requirement already satisfied: idna<4,>=2.5 in /Users/charlotte/opt/anaconda3/envs/dev/lib/python3.7/site-packages (from requests->panel>=0.13.1->holoviews) (3.4)\n",
      "Requirement already satisfied: zipp>=0.5 in /Users/charlotte/opt/anaconda3/envs/dev/lib/python3.7/site-packages (from importlib-metadata>=4.4->markdown->panel>=0.13.1->holoviews) (3.11.0)\n"
     ]
    },
    {
     "name": "stdout",
     "output_type": "stream",
     "text": [
      "Requirement already satisfied: MarkupSafe>=2.0 in /Users/charlotte/opt/anaconda3/envs/dev/lib/python3.7/site-packages (from Jinja2>=2.9->bokeh<2.5.0,>=2.4.0->panel>=0.13.1->holoviews) (2.1.1)\r\n"
     ]
    }
   ],
   "source": [
    "# Install the required libraries\n",
    "!pip install pystan\n",
    "!pip install prophet\n",
    "!pip install hvplot\n",
    "!pip install holoviews"
   ]
  },
  {
   "cell_type": "code",
   "execution_count": null,
   "metadata": {},
   "outputs": [],
   "source": [
    "# Import the required libraries and dependencies\n",
    "import pandas as pd\n",
    "import holoviews as hv\n",
    "from prophet import Prophet\n",
    "import hvplot.pandas\n",
    "import datetime as dt\n",
    "%matplotlib inline"
   ]
  },
  {
   "cell_type": "markdown",
   "metadata": {},
   "source": [
    "## Step 1: Find Unusual Patterns in Hourly Google Search Traffic\n",
    "\n",
    "The data science manager asks if the Google search traffic for the company links to any financial events at the company. Or, does the search traffic data just present random noise? To answer this question, pick out any unusual patterns in the Google search data for the company, and connect them to the corporate financial events.\n",
    "\n",
    "To do so, complete the following steps:\n",
    "\n",
    "1. Read the search data into a DataFrame, and then slice the data to just the month of May 2020. (During this month, MercadoLibre released its quarterly financial results.) Use hvPlot to visualize the results. Do any unusual patterns exist?\n",
    "\n",
    "2. Calculate the total search traffic for the month, and then compare the value to the monthly median across all months. Did the Google search traffic increase during the month that MercadoLibre released its financial results?\n"
   ]
  },
  {
   "cell_type": "markdown",
   "metadata": {},
   "source": [
    "#### Step 1: Read the search data into a DataFrame, and then slice the data to just the month of May 2020. (During this month, MercadoLibre released its quarterly financial results.) Use hvPlot to visualize the results. Do any unusual patterns exist?"
   ]
  },
  {
   "cell_type": "code",
   "execution_count": 4,
   "metadata": {},
   "outputs": [
    {
     "name": "stdout",
     "output_type": "stream",
     "text": [
      "Collecting google-colab\n",
      "  Downloading google-colab-1.0.0.tar.gz (72 kB)\n",
      "\u001b[2K     \u001b[38;2;114;156;31m━━━━━━━━━━━━━━━━━━━━━━━━━━━━━━━━━━━━━━━━\u001b[0m \u001b[32m72.9/72.9 kB\u001b[0m \u001b[31m1.2 MB/s\u001b[0m eta \u001b[36m0:00:00\u001b[0m[31m1.6 MB/s\u001b[0m eta \u001b[36m0:00:01\u001b[0m\n",
      "\u001b[?25h  Preparing metadata (setup.py) ... \u001b[?25ldone\n",
      "\u001b[?25hCollecting google-auth~=1.4.0\n",
      "  Downloading google_auth-1.4.2-py2.py3-none-any.whl (64 kB)\n",
      "\u001b[2K     \u001b[38;2;114;156;31m━━━━━━━━━━━━━━━━━━━━━━━━━━━━━━━━━━━━━━━━\u001b[0m \u001b[32m64.2/64.2 kB\u001b[0m \u001b[31m3.5 MB/s\u001b[0m eta \u001b[36m0:00:00\u001b[0m\n",
      "\u001b[?25hCollecting ipykernel~=4.6.0\n",
      "  Downloading ipykernel-4.6.1-py3-none-any.whl (104 kB)\n",
      "\u001b[2K     \u001b[38;2;114;156;31m━━━━━━━━━━━━━━━━━━━━━━━━━━━━━━━━━━━━━━━\u001b[0m \u001b[32m104.5/104.5 kB\u001b[0m \u001b[31m4.7 MB/s\u001b[0m eta \u001b[36m0:00:00\u001b[0m\n",
      "\u001b[?25hCollecting ipython~=5.5.0\n",
      "  Downloading ipython-5.5.0-py3-none-any.whl (758 kB)\n",
      "\u001b[2K     \u001b[38;2;114;156;31m━━━━━━━━━━━━━━━━━━━━━━━━━━━━━━━━━━━━━━━\u001b[0m \u001b[32m758.9/758.9 kB\u001b[0m \u001b[31m6.8 MB/s\u001b[0m eta \u001b[36m0:00:00\u001b[0m MB/s\u001b[0m eta \u001b[36m0:00:01\u001b[0m\n",
      "\u001b[?25hCollecting notebook~=5.2.0\n",
      "  Downloading notebook-5.2.2-py2.py3-none-any.whl (8.0 MB)\n",
      "\u001b[2K     \u001b[38;2;114;156;31m━━━━━━━━━━━━━━━━━━━━━━━━━━━━━━━━━━━━━━━━\u001b[0m \u001b[32m8.0/8.0 MB\u001b[0m \u001b[31m11.0 MB/s\u001b[0m eta \u001b[36m0:00:00\u001b[0mm eta \u001b[36m0:00:01\u001b[0m[36m0:00:01\u001b[0m\n",
      "\u001b[?25hCollecting six~=1.12.0\n",
      "  Downloading six-1.12.0-py2.py3-none-any.whl (10 kB)\n",
      "Collecting pandas~=0.24.0\n",
      "  Downloading pandas-0.24.2-cp37-cp37m-macosx_10_6_intel.macosx_10_9_intel.macosx_10_9_x86_64.macosx_10_10_intel.macosx_10_10_x86_64.whl (15.9 MB)\n",
      "\u001b[2K     \u001b[38;2;114;156;31m━━━━━━━━━━━━━━━━━━━━━━━━━━━━━━━━━━━━━━━━\u001b[0m \u001b[32m15.9/15.9 MB\u001b[0m \u001b[31m10.0 MB/s\u001b[0m eta \u001b[36m0:00:00\u001b[0mm eta \u001b[36m0:00:01\u001b[0m[36m0:00:01\u001b[0m\n",
      "\u001b[?25hCollecting portpicker~=1.2.0\n",
      "  Downloading portpicker-1.2.0.tar.gz (17 kB)\n",
      "  Preparing metadata (setup.py) ... \u001b[?25ldone\n",
      "\u001b[?25hCollecting requests~=2.21.0\n",
      "  Downloading requests-2.21.0-py2.py3-none-any.whl (57 kB)\n",
      "\u001b[2K     \u001b[38;2;114;156;31m━━━━━━━━━━━━━━━━━━━━━━━━━━━━━━━━━━━━━━━━\u001b[0m \u001b[32m58.0/58.0 kB\u001b[0m \u001b[31m6.0 MB/s\u001b[0m eta \u001b[36m0:00:00\u001b[0m\n",
      "\u001b[?25hCollecting tornado~=4.5.0\n",
      "  Downloading tornado-4.5.3.tar.gz (484 kB)\n",
      "\u001b[2K     \u001b[38;2;114;156;31m━━━━━━━━━━━━━━━━━━━━━━━━━━━━━━━━━━━━━━━\u001b[0m \u001b[32m484.2/484.2 kB\u001b[0m \u001b[31m9.5 MB/s\u001b[0m eta \u001b[36m0:00:00\u001b[0m31m12.2 MB/s\u001b[0m eta \u001b[36m0:00:01\u001b[0m\n",
      "\u001b[?25h  Preparing metadata (setup.py) ... \u001b[?25ldone\n",
      "\u001b[?25hRequirement already satisfied: rsa>=3.1.4 in /Users/charlotte/opt/anaconda3/envs/dev/lib/python3.7/site-packages (from google-auth~=1.4.0->google-colab) (4.9)\n",
      "Requirement already satisfied: pyasn1-modules>=0.2.1 in /Users/charlotte/opt/anaconda3/envs/dev/lib/python3.7/site-packages (from google-auth~=1.4.0->google-colab) (0.2.7)\n",
      "Requirement already satisfied: cachetools>=2.0.0 in /Users/charlotte/opt/anaconda3/envs/dev/lib/python3.7/site-packages (from google-auth~=1.4.0->google-colab) (5.2.0)\n",
      "Requirement already satisfied: jupyter-client in /Users/charlotte/opt/anaconda3/envs/dev/lib/python3.7/site-packages (from ipykernel~=4.6.0->google-colab) (6.1.12)\n",
      "Requirement already satisfied: traitlets>=4.1.0 in /Users/charlotte/opt/anaconda3/envs/dev/lib/python3.7/site-packages (from ipykernel~=4.6.0->google-colab) (5.7.1)\n",
      "Collecting prompt-toolkit<2.0.0,>=1.0.4\n",
      "  Downloading prompt_toolkit-1.0.18-py3-none-any.whl (245 kB)\n",
      "\u001b[2K     \u001b[38;2;114;156;31m━━━━━━━━━━━━━━━━━━━━━━━━━━━━━━━━━━━━━━━\u001b[0m \u001b[32m245.4/245.4 kB\u001b[0m \u001b[31m8.3 MB/s\u001b[0m eta \u001b[36m0:00:00\u001b[0m\n",
      "\u001b[?25hRequirement already satisfied: appnope in /Users/charlotte/opt/anaconda3/envs/dev/lib/python3.7/site-packages (from ipython~=5.5.0->google-colab) (0.1.3)\n",
      "Requirement already satisfied: pickleshare in /Users/charlotte/opt/anaconda3/envs/dev/lib/python3.7/site-packages (from ipython~=5.5.0->google-colab) (0.7.5)\n",
      "Requirement already satisfied: pygments in /Users/charlotte/opt/anaconda3/envs/dev/lib/python3.7/site-packages (from ipython~=5.5.0->google-colab) (2.13.0)\n",
      "Collecting simplegeneric>0.8\n",
      "  Downloading simplegeneric-0.8.1.zip (12 kB)\n",
      "  Preparing metadata (setup.py) ... \u001b[?25ldone\n",
      "\u001b[?25hRequirement already satisfied: decorator in /Users/charlotte/opt/anaconda3/envs/dev/lib/python3.7/site-packages (from ipython~=5.5.0->google-colab) (5.1.1)\n",
      "Requirement already satisfied: setuptools>=18.5 in /Users/charlotte/opt/anaconda3/envs/dev/lib/python3.7/site-packages (from ipython~=5.5.0->google-colab) (59.8.0)\n",
      "Requirement already satisfied: pexpect in /Users/charlotte/opt/anaconda3/envs/dev/lib/python3.7/site-packages (from ipython~=5.5.0->google-colab) (4.8.0)\n",
      "Requirement already satisfied: nbconvert in /Users/charlotte/opt/anaconda3/envs/dev/lib/python3.7/site-packages (from notebook~=5.2.0->google-colab) (7.2.6)\n",
      "Requirement already satisfied: nbformat in /Users/charlotte/opt/anaconda3/envs/dev/lib/python3.7/site-packages (from notebook~=5.2.0->google-colab) (5.7.0)\n",
      "Requirement already satisfied: jupyter-core in /Users/charlotte/opt/anaconda3/envs/dev/lib/python3.7/site-packages (from notebook~=5.2.0->google-colab) (4.11.2)\n",
      "Requirement already satisfied: ipython-genutils in /Users/charlotte/opt/anaconda3/envs/dev/lib/python3.7/site-packages (from notebook~=5.2.0->google-colab) (0.2.0)\n",
      "Requirement already satisfied: terminado>=0.3.3 in /Users/charlotte/opt/anaconda3/envs/dev/lib/python3.7/site-packages (from notebook~=5.2.0->google-colab) (0.17.1)\n",
      "Requirement already satisfied: jinja2 in /Users/charlotte/opt/anaconda3/envs/dev/lib/python3.7/site-packages (from notebook~=5.2.0->google-colab) (3.1.2)\n",
      "Requirement already satisfied: pytz>=2011k in /Users/charlotte/opt/anaconda3/envs/dev/lib/python3.7/site-packages (from pandas~=0.24.0->google-colab) (2022.6)\n",
      "Requirement already satisfied: numpy>=1.12.0 in /Users/charlotte/opt/anaconda3/envs/dev/lib/python3.7/site-packages (from pandas~=0.24.0->google-colab) (1.21.5)\n",
      "Requirement already satisfied: python-dateutil>=2.5.0 in /Users/charlotte/opt/anaconda3/envs/dev/lib/python3.7/site-packages (from pandas~=0.24.0->google-colab) (2.8.2)\n",
      "Requirement already satisfied: certifi>=2017.4.17 in /Users/charlotte/opt/anaconda3/envs/dev/lib/python3.7/site-packages (from requests~=2.21.0->google-colab) (2022.6.15)\n",
      "Collecting idna<2.9,>=2.5\n",
      "  Downloading idna-2.8-py2.py3-none-any.whl (58 kB)\n",
      "\u001b[2K     \u001b[38;2;114;156;31m━━━━━━━━━━━━━━━━━━━━━━━━━━━━━━━━━━━━━━━━\u001b[0m \u001b[32m58.6/58.6 kB\u001b[0m \u001b[31m5.7 MB/s\u001b[0m eta \u001b[36m0:00:00\u001b[0m\n",
      "\u001b[?25hCollecting urllib3<1.25,>=1.21.1\n",
      "  Downloading urllib3-1.24.3-py2.py3-none-any.whl (118 kB)\n",
      "\u001b[2K     \u001b[38;2;114;156;31m━━━━━━━━━━━━━━━━━━━━━━━━━━━━━━━━━━━━━━━\u001b[0m \u001b[32m118.8/118.8 kB\u001b[0m \u001b[31m7.9 MB/s\u001b[0m eta \u001b[36m0:00:00\u001b[0m\n",
      "\u001b[?25hRequirement already satisfied: chardet<3.1.0,>=3.0.2 in /Users/charlotte/opt/anaconda3/envs/dev/lib/python3.7/site-packages (from requests~=2.21.0->google-colab) (3.0.4)\n",
      "Requirement already satisfied: wcwidth in /Users/charlotte/opt/anaconda3/envs/dev/lib/python3.7/site-packages (from prompt-toolkit<2.0.0,>=1.0.4->ipython~=5.5.0->google-colab) (0.2.5)\n",
      "Requirement already satisfied: pyasn1<0.5.0,>=0.4.6 in /Users/charlotte/opt/anaconda3/envs/dev/lib/python3.7/site-packages (from pyasn1-modules>=0.2.1->google-auth~=1.4.0->google-colab) (0.4.8)\n",
      "Requirement already satisfied: ptyprocess in /Users/charlotte/opt/anaconda3/envs/dev/lib/python3.7/site-packages (from terminado>=0.3.3->notebook~=5.2.0->google-colab) (0.7.0)\n",
      "Collecting terminado>=0.3.3\n",
      "  Downloading terminado-0.17.0-py3-none-any.whl (16 kB)\n",
      "  Downloading terminado-0.16.0-py3-none-any.whl (16 kB)\n",
      "  Downloading terminado-0.15.0-py3-none-any.whl (16 kB)\n",
      "  Downloading terminado-0.13.3-py3-none-any.whl (14 kB)\n",
      "Requirement already satisfied: MarkupSafe>=2.0 in /Users/charlotte/opt/anaconda3/envs/dev/lib/python3.7/site-packages (from jinja2->notebook~=5.2.0->google-colab) (2.1.1)\n",
      "Requirement already satisfied: pyzmq>=13 in /Users/charlotte/opt/anaconda3/envs/dev/lib/python3.7/site-packages (from jupyter-client->ipykernel~=4.6.0->google-colab) (24.0.1)\n",
      "Requirement already satisfied: tinycss2 in /Users/charlotte/opt/anaconda3/envs/dev/lib/python3.7/site-packages (from nbconvert->notebook~=5.2.0->google-colab) (1.2.1)\n",
      "Requirement already satisfied: packaging in /Users/charlotte/opt/anaconda3/envs/dev/lib/python3.7/site-packages (from nbconvert->notebook~=5.2.0->google-colab) (22.0)\n",
      "Requirement already satisfied: beautifulsoup4 in /Users/charlotte/opt/anaconda3/envs/dev/lib/python3.7/site-packages (from nbconvert->notebook~=5.2.0->google-colab) (4.11.1)\n",
      "Requirement already satisfied: defusedxml in /Users/charlotte/opt/anaconda3/envs/dev/lib/python3.7/site-packages (from nbconvert->notebook~=5.2.0->google-colab) (0.7.1)\n",
      "Requirement already satisfied: mistune<3,>=2.0.3 in /Users/charlotte/opt/anaconda3/envs/dev/lib/python3.7/site-packages (from nbconvert->notebook~=5.2.0->google-colab) (2.0.4)\n",
      "Requirement already satisfied: bleach in /Users/charlotte/opt/anaconda3/envs/dev/lib/python3.7/site-packages (from nbconvert->notebook~=5.2.0->google-colab) (5.0.1)\n",
      "Requirement already satisfied: nbclient>=0.5.0 in /Users/charlotte/opt/anaconda3/envs/dev/lib/python3.7/site-packages (from nbconvert->notebook~=5.2.0->google-colab) (0.6.8)\n",
      "Requirement already satisfied: jupyterlab-pygments in /Users/charlotte/opt/anaconda3/envs/dev/lib/python3.7/site-packages (from nbconvert->notebook~=5.2.0->google-colab) (0.2.2)\n",
      "Requirement already satisfied: importlib-metadata>=3.6 in /Users/charlotte/opt/anaconda3/envs/dev/lib/python3.7/site-packages (from nbconvert->notebook~=5.2.0->google-colab) (4.11.4)\n",
      "Requirement already satisfied: pandocfilters>=1.4.1 in /Users/charlotte/opt/anaconda3/envs/dev/lib/python3.7/site-packages (from nbconvert->notebook~=5.2.0->google-colab) (1.5.0)\n",
      "Requirement already satisfied: fastjsonschema in /Users/charlotte/opt/anaconda3/envs/dev/lib/python3.7/site-packages (from nbformat->notebook~=5.2.0->google-colab) (2.16.2)\n",
      "Requirement already satisfied: jsonschema>=2.6 in /Users/charlotte/opt/anaconda3/envs/dev/lib/python3.7/site-packages (from nbformat->notebook~=5.2.0->google-colab) (4.17.3)\n"
     ]
    },
    {
     "name": "stdout",
     "output_type": "stream",
     "text": [
      "Requirement already satisfied: typing-extensions>=3.6.4 in /Users/charlotte/opt/anaconda3/envs/dev/lib/python3.7/site-packages (from importlib-metadata>=3.6->nbconvert->notebook~=5.2.0->google-colab) (4.4.0)\n",
      "Requirement already satisfied: zipp>=0.5 in /Users/charlotte/opt/anaconda3/envs/dev/lib/python3.7/site-packages (from importlib-metadata>=3.6->nbconvert->notebook~=5.2.0->google-colab) (3.11.0)\n",
      "Requirement already satisfied: pkgutil-resolve-name>=1.3.10 in /Users/charlotte/opt/anaconda3/envs/dev/lib/python3.7/site-packages (from jsonschema>=2.6->nbformat->notebook~=5.2.0->google-colab) (1.3.10)\n",
      "Requirement already satisfied: attrs>=17.4.0 in /Users/charlotte/opt/anaconda3/envs/dev/lib/python3.7/site-packages (from jsonschema>=2.6->nbformat->notebook~=5.2.0->google-colab) (22.1.0)\n",
      "Requirement already satisfied: importlib-resources>=1.4.0 in /Users/charlotte/opt/anaconda3/envs/dev/lib/python3.7/site-packages (from jsonschema>=2.6->nbformat->notebook~=5.2.0->google-colab) (5.10.1)\n",
      "Requirement already satisfied: pyrsistent!=0.17.0,!=0.17.1,!=0.17.2,>=0.14.0 in /Users/charlotte/opt/anaconda3/envs/dev/lib/python3.7/site-packages (from jsonschema>=2.6->nbformat->notebook~=5.2.0->google-colab) (0.18.0)\n",
      "Requirement already satisfied: nest-asyncio in /Users/charlotte/opt/anaconda3/envs/dev/lib/python3.7/site-packages (from nbclient>=0.5.0->nbconvert->notebook~=5.2.0->google-colab) (1.5.6)\n",
      "Requirement already satisfied: soupsieve>1.2 in /Users/charlotte/opt/anaconda3/envs/dev/lib/python3.7/site-packages (from beautifulsoup4->nbconvert->notebook~=5.2.0->google-colab) (2.3.2.post1)\n",
      "Requirement already satisfied: webencodings in /Users/charlotte/opt/anaconda3/envs/dev/lib/python3.7/site-packages (from bleach->nbconvert->notebook~=5.2.0->google-colab) (0.5.1)\n",
      "Building wheels for collected packages: google-colab, portpicker, tornado, simplegeneric\n",
      "  Building wheel for google-colab (setup.py) ... \u001b[?25ldone\n",
      "\u001b[?25h  Created wheel for google-colab: filename=google_colab-1.0.0-py2.py3-none-any.whl size=102291 sha256=87886798069d39e00018899fb7d007715c9dcf0b67ae32199a293dc8ab879516\n",
      "  Stored in directory: /Users/charlotte/Library/Caches/pip/wheels/0b/af/ed/0157613a3f8febbb90d3d44597f3605464cf3e2d411a8adf99\n",
      "  Building wheel for portpicker (setup.py) ... \u001b[?25ldone\n",
      "\u001b[?25h  Created wheel for portpicker: filename=portpicker-1.2.0-py3-none-any.whl size=13383 sha256=daf588dd47a6484b3df515ee8d18bc84ffd26123851e51ae8eba2c78bb34b386\n",
      "  Stored in directory: /Users/charlotte/Library/Caches/pip/wheels/b2/0e/fc/0bf9bab983ee205881fa1b70c875de99336ccb5f9ee779ed2c\n",
      "  Building wheel for tornado (setup.py) ... \u001b[?25ldone\n",
      "\u001b[?25h  Created wheel for tornado: filename=tornado-4.5.3-cp37-cp37m-macosx_10_9_x86_64.whl size=422348 sha256=09c95caa5b70af69c65ee4ee5fea2e7eb461681d67ac5365e57da941268615ef\n",
      "  Stored in directory: /Users/charlotte/Library/Caches/pip/wheels/60/6b/b9/d6eb552745a31bde095241c890aeb584db30c41e29b0dee9a2\n",
      "  Building wheel for simplegeneric (setup.py) ... \u001b[?25ldone\n",
      "\u001b[?25h  Created wheel for simplegeneric: filename=simplegeneric-0.8.1-py3-none-any.whl size=5078 sha256=b64db100acbdee86abdae1b9c49b8aac5673ec30fd2394c6e5209b2c35ed45ec\n",
      "  Stored in directory: /Users/charlotte/Library/Caches/pip/wheels/39/d7/b9/41b8c09f03813f87f8051e3b9885324ee7a4381172c468e668\n",
      "Successfully built google-colab portpicker tornado simplegeneric\n",
      "Installing collected packages: tornado, simplegeneric, portpicker, urllib3, terminado, six, idna, requests, prompt-toolkit, google-auth, pandas, ipython, ipykernel, notebook, google-colab\n",
      "  Attempting uninstall: tornado\n",
      "    Found existing installation: tornado 6.2\n",
      "    Uninstalling tornado-6.2:\n",
      "      Successfully uninstalled tornado-6.2\n",
      "  Attempting uninstall: urllib3\n",
      "    Found existing installation: urllib3 1.26.13\n",
      "    Uninstalling urllib3-1.26.13:\n",
      "      Successfully uninstalled urllib3-1.26.13\n",
      "  Attempting uninstall: terminado\n",
      "    Found existing installation: terminado 0.17.1\n",
      "    Uninstalling terminado-0.17.1:\n",
      "      Successfully uninstalled terminado-0.17.1\n",
      "  Attempting uninstall: six\n",
      "    Found existing installation: six 1.16.0\n",
      "    Uninstalling six-1.16.0:\n",
      "      Successfully uninstalled six-1.16.0\n",
      "  Attempting uninstall: idna\n",
      "    Found existing installation: idna 3.4\n",
      "    Uninstalling idna-3.4:\n",
      "      Successfully uninstalled idna-3.4\n",
      "  Attempting uninstall: requests\n",
      "    Found existing installation: requests 2.28.1\n",
      "    Uninstalling requests-2.28.1:\n",
      "      Successfully uninstalled requests-2.28.1\n",
      "  Attempting uninstall: prompt-toolkit\n",
      "    Found existing installation: prompt-toolkit 3.0.36\n",
      "    Uninstalling prompt-toolkit-3.0.36:\n",
      "      Successfully uninstalled prompt-toolkit-3.0.36\n",
      "  Attempting uninstall: google-auth\n",
      "    Found existing installation: google-auth 2.15.0\n",
      "    Uninstalling google-auth-2.15.0:\n",
      "      Successfully uninstalled google-auth-2.15.0\n",
      "  Attempting uninstall: pandas\n",
      "    Found existing installation: pandas 1.2.3\n",
      "    Uninstalling pandas-1.2.3:\n",
      "      Successfully uninstalled pandas-1.2.3\n",
      "  Attempting uninstall: ipython\n",
      "    Found existing installation: ipython 7.33.0\n",
      "    Uninstalling ipython-7.33.0:\n",
      "      Successfully uninstalled ipython-7.33.0\n",
      "  Attempting uninstall: ipykernel\n",
      "    Found existing installation: ipykernel 6.15.0\n",
      "    Uninstalling ipykernel-6.15.0:\n",
      "      Successfully uninstalled ipykernel-6.15.0\n",
      "  Attempting uninstall: notebook\n",
      "    Found existing installation: notebook 6.5.2\n",
      "    Uninstalling notebook-6.5.2:\n",
      "      Successfully uninstalled notebook-6.5.2\n",
      "\u001b[31mERROR: pip's dependency resolver does not currently take into account all the packages that are installed. This behaviour is the source of the following dependency conflicts.\n",
      "spyder 5.1.5 requires pyqt5<5.13, which is not installed.\n",
      "spyder 5.1.5 requires pyqtwebengine<5.13, which is not installed.\n",
      "anaconda-project 0.11.1 requires ruamel-yaml, which is not installed.\n",
      "xarray 0.20.2 requires pandas>=1.1, but you have pandas 0.24.2 which is incompatible.\n",
      "spyder 5.1.5 requires ipython>=7.6.0, but you have ipython 5.5.0 which is incompatible.\n",
      "spyder-kernels 2.1.3 requires ipykernel>=5.3.0; python_version >= \"3\", but you have ipykernel 4.6.1 which is incompatible.\n",
      "spyder-kernels 2.1.3 requires ipython>=7.6.0; python_version >= \"3\", but you have ipython 5.5.0 which is incompatible.\n",
      "prophet 1.1.1 requires pandas>=1.0.4, but you have pandas 0.24.2 which is incompatible.\n",
      "polygon-api-client 0.2.11 requires requests>=2.22.0, but you have requests 2.21.0 which is incompatible.\n",
      "nbclassic 0.4.8 requires tornado>=6.1, but you have tornado 4.5.3 which is incompatible.\n",
      "jupyterthemes 0.20.0 requires notebook>=5.6.0, but you have notebook 5.2.2 which is incompatible.\n",
      "jupyterlab 3.5.1 requires tornado>=6.1.0, but you have tornado 4.5.3 which is incompatible.\n",
      "jupyterlab-server 2.16.5 requires requests>=2.28, but you have requests 2.21.0 which is incompatible.\n",
      "jupyter-server 1.23.3 requires tornado>=6.1.0, but you have tornado 4.5.3 which is incompatible.\n",
      "jupyter-console 6.4.0 requires prompt-toolkit!=3.0.0,!=3.0.1,<3.1.0,>=2.0.0, but you have prompt-toolkit 1.0.18 which is incompatible.\n",
      "google-cloud-storage 2.7.0 requires google-auth<3.0dev,>=1.25.0, but you have google-auth 1.4.2 which is incompatible.\n",
      "google-cloud-core 2.3.2 requires google-auth<3.0dev,>=1.25.0, but you have google-auth 1.4.2 which is incompatible.\n",
      "google-api-core 2.10.1 requires google-auth<3.0dev,>=1.25.0, but you have google-auth 1.4.2 which is incompatible.\n",
      "distributed 2021.10.0 requires tornado>=5; python_version < \"3.8\", but you have tornado 4.5.3 which is incompatible.\n",
      "cookiecutter 2.1.1 requires requests>=2.23.0, but you have requests 2.21.0 which is incompatible.\n",
      "botocore 1.29.32 requires urllib3<1.27,>=1.25.4, but you have urllib3 1.24.3 which is incompatible.\n",
      "bokeh 2.4.3 requires tornado>=5.1, but you have tornado 4.5.3 which is incompatible.\n",
      "anaconda-client 1.11.0 requires six>=1.15.0, but you have six 1.12.0 which is incompatible.\n",
      "anaconda-client 1.11.0 requires urllib3>=1.26.4, but you have urllib3 1.24.3 which is incompatible.\n",
      "alpaca-trade-api 2.3.0 requires aiohttp==3.8.1, but you have aiohttp 3.8.3 which is incompatible.\n",
      "alpaca-trade-api 2.3.0 requires msgpack==1.0.3, but you have msgpack 1.0.4 which is incompatible.\u001b[0m\u001b[31m\n",
      "\u001b[0mSuccessfully installed google-auth-1.4.2 google-colab-1.0.0 idna-2.8 ipykernel-4.6.1 ipython-5.5.0 notebook-5.2.2 pandas-0.24.2 portpicker-1.2.0 prompt-toolkit-1.0.18 requests-2.21.0 simplegeneric-0.8.1 six-1.12.0 terminado-0.13.3 tornado-4.5.3 urllib3-1.24.3\n"
     ]
    }
   ],
   "source": [
    "!conda install google-colab"
   ]
  },
  {
   "cell_type": "code",
   "execution_count": null,
   "metadata": {},
   "outputs": [],
   "source": [
    "# Upload the \"google_hourly_search_trends.csv\" file into Colab, then store in a Pandas DataFrame\n",
    "# Set the \"Date\" column as the Datetime Index.\n",
    "\n",
    "# from google.colab import files\n",
    "# uploaded = files.upload()\n",
    "\n",
    "df_mercado_trends = pd.read_csv('Resources/google_hourly_search_trends.csv',index=0,parse_dates=True)# YOUR CODE HERE\n",
    "\n",
    "# Review the first and last five rows of the DataFrame\n",
    "# YOUR CODE HERE\n",
    "display(df_mercado_trends.head(5))"
   ]
  },
  {
   "cell_type": "code",
   "execution_count": null,
   "metadata": {},
   "outputs": [],
   "source": []
  },
  {
   "cell_type": "code",
   "execution_count": null,
   "metadata": {},
   "outputs": [],
   "source": [
    "# Review the data types of the DataFrame using the info function\n",
    "# YOUR CODE HERE\n"
   ]
  },
  {
   "cell_type": "code",
   "execution_count": null,
   "metadata": {},
   "outputs": [],
   "source": [
    "# Holoviews extension to render hvPlots in Colab\n",
    "hv.extension('bokeh')\n",
    "\n",
    "# Slice the DataFrame to just the month of May 2020\n",
    "df_may_2020 = # YOUR CODE HERE\n",
    "\n",
    "# Use hvPlot to visualize the data for May 2020\n",
    "# YOUR CODE HERE\n"
   ]
  },
  {
   "cell_type": "markdown",
   "metadata": {},
   "source": [
    "#### Step 2: Calculate the total search traffic for the month, and then compare the value to the monthly median across all months. Did the Google search traffic increase during the month that MercadoLibre released its financial results?"
   ]
  },
  {
   "cell_type": "code",
   "execution_count": null,
   "metadata": {},
   "outputs": [],
   "source": [
    "# Calculate the sum of the total search traffic for May 2020\n",
    "traffic_may_2020 = # YOUR CODE HERE\n",
    "\n",
    "# View the traffic_may_2020 value\n",
    "# YOUR CODE HERE\n"
   ]
  },
  {
   "cell_type": "code",
   "execution_count": null,
   "metadata": {},
   "outputs": [],
   "source": [
    "# Calcluate the monhtly median search traffic across all months \n",
    "# Group the DataFrame by index year and then index month, chain the sum and then the median functions\n",
    "median_monthly_traffic = # YOUR CODE HERE\n",
    "\n",
    "# View the median_monthly_traffic value\n",
    "# YOUR CODE HERE\n"
   ]
  },
  {
   "cell_type": "code",
   "execution_count": null,
   "metadata": {},
   "outputs": [],
   "source": [
    "# Compare the seach traffic for the month of May 2020 to the overall monthly median value\n",
    "# YOUR CODE HERE\n"
   ]
  },
  {
   "cell_type": "markdown",
   "metadata": {},
   "source": [
    "##### Answer the following question: "
   ]
  },
  {
   "cell_type": "markdown",
   "metadata": {},
   "source": [
    "**Question:** Did the Google search traffic increase during the month that MercadoLibre released its financial results?\n",
    "\n",
    "**Answer:** # YOUR ANSWER HERE"
   ]
  },
  {
   "cell_type": "markdown",
   "metadata": {},
   "source": [
    "## Step 2: Mine the Search Traffic Data for Seasonality\n",
    "\n",
    "Marketing realizes that they can use the hourly search data, too. If they can track and predict interest in the company and its platform for any time of day, they can focus their marketing efforts around the times that have the most traffic. This will get a greater return on investment (ROI) from their marketing budget.\n",
    "\n",
    "To that end, you want to mine the search traffic data for predictable seasonal patterns of interest in the company. To do so, complete the following steps:\n",
    "\n",
    "1. Group the hourly search data to plot the average traffic by the day of the week (for example, Monday vs. Friday).\n",
    "\n",
    "2. Using hvPlot, visualize this traffic as a heatmap, referencing the `index.hour` as the x-axis and the `index.dayofweek` as the y-axis. Does any day-of-week effect that you observe concentrate in just a few hours of that day?\n",
    "\n",
    "3. Group the search data by the week of the year. Does the search traffic tend to increase during the winter holiday period (weeks 40 through 52)?\n"
   ]
  },
  {
   "cell_type": "markdown",
   "metadata": {},
   "source": [
    "#### Step 1: Group the hourly search data to plot the average traffic by the day of the week (for example, Monday vs. Friday)."
   ]
  },
  {
   "cell_type": "code",
   "execution_count": null,
   "metadata": {},
   "outputs": [],
   "source": [
    "# Holoviews extension to render hvPlots in Colab\n",
    "hv.extension('bokeh')\n",
    "\n",
    "# Group the hourly search data to plot (use hvPlot) the average traffic by the day of week \n",
    "# YOUR CODE HERE\n"
   ]
  },
  {
   "cell_type": "markdown",
   "metadata": {},
   "source": [
    "#### Step 2: Using hvPlot, visualize this traffic as a heatmap, referencing the `index.hour` as the x-axis and the `index.dayofweek` as the y-axis. Does any day-of-week effect that you observe concentrate in just a few hours of that day?"
   ]
  },
  {
   "cell_type": "code",
   "execution_count": null,
   "metadata": {},
   "outputs": [],
   "source": [
    "# Holoviews extension to render hvPlots in Colab\n",
    "hv.extension('bokeh')\n",
    "\n",
    "# Use hvPlot to visualize the hour of the day and day of week search traffic as a heatmap.\n",
    "# YOUR CODE HERE\n"
   ]
  },
  {
   "cell_type": "markdown",
   "metadata": {},
   "source": [
    "##### Answer the following question:"
   ]
  },
  {
   "cell_type": "markdown",
   "metadata": {},
   "source": [
    "**Question:** Does any day-of-week effect that you observe concentrate in just a few hours of that day?\n",
    "\n",
    "**Answer:** # YOUR ANSWER HERE"
   ]
  },
  {
   "cell_type": "markdown",
   "metadata": {},
   "source": [
    "#### Step 3: Group the search data by the week of the year. Does the search traffic tend to increase during the winter holiday period (weeks 40 through 52)?"
   ]
  },
  {
   "cell_type": "code",
   "execution_count": null,
   "metadata": {},
   "outputs": [],
   "source": [
    "# Holoviews extension to render hvPlots in Colab\n",
    "hv.extension('bokeh')\n",
    "\n",
    "# Group the hourly search data to plot (use hvPlot) the average traffic by the week of the year\n",
    "# YOUR CODE HERE"
   ]
  },
  {
   "cell_type": "markdown",
   "metadata": {},
   "source": [
    "##### Answer the following question:"
   ]
  },
  {
   "cell_type": "markdown",
   "metadata": {},
   "source": [
    "**Question:** Does the search traffic tend to increase during the winter holiday period (weeks 40 through 52)?\n",
    "\n",
    "**Answer:** # YOUR ANSWER HERE"
   ]
  },
  {
   "cell_type": "markdown",
   "metadata": {},
   "source": [
    "## Step 3: Relate the Search Traffic to Stock Price Patterns\n",
    "\n",
    "You mention your work on the search traffic data during a meeting with people in the finance group at the company. They want to know if any relationship between the search data and the company stock price exists, and they ask if you can investigate.\n",
    "\n",
    "To do so, complete the following steps:\n",
    "\n",
    "1. Read in and plot the stock price data. Concatenate the stock price data to the search data in a single DataFrame.\n",
    "\n",
    "2. Market events emerged during the year of 2020 that many companies found difficult. But, after the initial shock to global financial markets, new customers and revenue increased for e-commerce platforms. Slice the data to just the first half of 2020 (`2020-01` to `2020-06` in the DataFrame), and then use hvPlot to plot the data. Do both time series indicate a common trend that’s consistent with this narrative?\n",
    "\n",
    "3. Create a new column in the DataFrame named “Lagged Search Trends” that offsets, or shifts, the search traffic by one hour. Create two additional columns:\n",
    "\n",
    "    * “Stock Volatility”, which holds an exponentially weighted four-hour rolling average of the company’s stock volatility\n",
    "\n",
    "    * “Hourly Stock Return”, which holds the percent change of the company's stock price on an hourly basis\n",
    "\n",
    "4. Review the time series correlation, and then answer the following question: Does a predictable relationship exist between the lagged search traffic and the stock volatility or between the lagged search traffic and the stock price returns?\n"
   ]
  },
  {
   "cell_type": "markdown",
   "metadata": {},
   "source": [
    "#### Step 1: Read in and plot the stock price data. Concatenate the stock price data to the search data in a single DataFrame."
   ]
  },
  {
   "cell_type": "code",
   "execution_count": null,
   "metadata": {},
   "outputs": [],
   "source": [
    "# Upload the \"mercado_stock_price.csv\" file into Colab, then store in a Pandas DataFrame\n",
    "# Set the \"date\" column as the Datetime Index.\n",
    "from google.colab import files\n",
    "uploaded = files.upload()\n",
    "\n",
    "df_mercado_stock = # YOUR CODE HERE\n",
    "\n",
    "# View the first and last five rows of the DataFrame\n",
    "# YOUR CODE HERE\n"
   ]
  },
  {
   "cell_type": "code",
   "execution_count": null,
   "metadata": {},
   "outputs": [],
   "source": [
    "# Holoviews extension to render hvPlots in Colab\n",
    "hv.extension('bokeh')\n",
    "\n",
    "# Use hvPlot to visualize the closing price of the df_mercado_stock DataFrame\n",
    "# YOUR CODE HERE\n"
   ]
  },
  {
   "cell_type": "code",
   "execution_count": null,
   "metadata": {},
   "outputs": [],
   "source": [
    "# Concatenate the df_mercado_stock DataFrame with the df_mercado_trends DataFrame\n",
    "# Concatenate the DataFrame by columns (axis=1), and drop and rows with only one column of data\n",
    "mercado_stock_trends_df = # YOUR CODE HERE\n",
    "\n",
    "# View the first and last five rows of the DataFrame\n",
    "# YOUR CODE HERE\n"
   ]
  },
  {
   "cell_type": "markdown",
   "metadata": {},
   "source": [
    "#### Step 2: Market events emerged during the year of 2020 that many companies found difficult. But, after the initial shock to global financial markets, new customers and revenue increased for e-commerce platforms. Slice the data to just the first half of 2020 (`2020-01` to `2020-06` in the DataFrame), and then use hvPlot to plot the data. Do both time series indicate a common trend that’s consistent with this narrative?"
   ]
  },
  {
   "cell_type": "code",
   "execution_count": null,
   "metadata": {},
   "outputs": [],
   "source": [
    "# For the combined dataframe, slice to just the first half of 2020 (2020-01 through 2020-06) \n",
    "first_half_2020 = # YOUR CODE HERE\n",
    "\n",
    "# View the first and last five rows of first_half_2020 DataFrame\n",
    "# YOUR CODE HERE\n"
   ]
  },
  {
   "cell_type": "code",
   "execution_count": null,
   "metadata": {},
   "outputs": [],
   "source": [
    "# Holoviews extension to render hvPlots in Colab\n",
    "hv.extension('bokeh')\n",
    "\n",
    "# Use hvPlot to visualize the close and Search Trends data\n",
    "# Plot each column on a separate axes using the following syntax\n",
    "# `hvplot(shared_axes=False, subplots=True).cols(1)`\n",
    "# YOUR CODE HERE\n"
   ]
  },
  {
   "cell_type": "markdown",
   "metadata": {},
   "source": [
    "##### Answer the following question:"
   ]
  },
  {
   "cell_type": "markdown",
   "metadata": {},
   "source": [
    "**Question:** Do both time series indicate a common trend that’s consistent with this narrative?\n",
    "\n",
    "**Answer:** # YOUR ANSWER HERE"
   ]
  },
  {
   "cell_type": "markdown",
   "metadata": {},
   "source": [
    "#### Step 3: Create a new column in the DataFrame named “Lagged Search Trends” that offsets, or shifts, the search traffic by one hour. Create two additional columns:\n",
    "\n",
    "* “Stock Volatility”, which holds an exponentially weighted four-hour rolling average of the company’s stock volatility\n",
    "\n",
    "* “Hourly Stock Return”, which holds the percent change of the company's stock price on an hourly basis\n"
   ]
  },
  {
   "cell_type": "code",
   "execution_count": null,
   "metadata": {},
   "outputs": [],
   "source": [
    "# Create a new column in the mercado_stock_trends_df DataFrame called Lagged Search Trends\n",
    "# This column should shift the Search Trends information by one hour\n",
    "mercado_stock_trends_df['Lagged Search Trends'] = # YOUR CODE HERE\n"
   ]
  },
  {
   "cell_type": "code",
   "execution_count": null,
   "metadata": {},
   "outputs": [],
   "source": [
    "# Create a new column in the mercado_stock_trends_df DataFrame called Stock Volatility\n",
    "# This column should calculate the standard deviation of the closing stock price return data over a 4 period rolling window\n",
    "mercado_stock_trends_df['Stock Volatility'] = # YOUR CODE HERE\n"
   ]
  },
  {
   "cell_type": "code",
   "execution_count": null,
   "metadata": {},
   "outputs": [],
   "source": [
    "# Holoviews extension to render hvPlots in Colab\n",
    "hv.extension('bokeh')\n",
    "\n",
    "# Use hvPlot to visualize the stock volatility\n",
    "# YOUR CODE HERE\n"
   ]
  },
  {
   "cell_type": "markdown",
   "metadata": {},
   "source": [
    "**Solution Note:** Note how volatility spiked, and tended to stay high, during the first half of 2020. This is a common characteristic of volatility in stock returns worldwide: high volatility days tend to be followed by yet more high volatility days. When it rains, it pours."
   ]
  },
  {
   "cell_type": "code",
   "execution_count": null,
   "metadata": {},
   "outputs": [],
   "source": [
    "# Create a new column in the mercado_stock_trends_df DataFrame called Hourly Stock Return\n",
    "# This column should calculate hourly return percentage of the closing price\n",
    "mercado_stock_trends_df['Hourly Stock Return'] = # YOUR CODE HERE\n"
   ]
  },
  {
   "cell_type": "code",
   "execution_count": null,
   "metadata": {},
   "outputs": [],
   "source": [
    "# View the first and last five rows of the mercado_stock_trends_df DataFrame\n",
    "# YOUR CODE HERE\n"
   ]
  },
  {
   "cell_type": "markdown",
   "metadata": {},
   "source": [
    "#### Step 4: Review the time series correlation, and then answer the following question: Does a predictable relationship exist between the lagged search traffic and the stock volatility or between the lagged search traffic and the stock price returns?"
   ]
  },
  {
   "cell_type": "code",
   "execution_count": null,
   "metadata": {},
   "outputs": [],
   "source": [
    "# Construct correlation table of Stock Volatility, Lagged Search Trends, and Hourly Stock Return\n",
    "# YOUR CODE HERE\n"
   ]
  },
  {
   "cell_type": "markdown",
   "metadata": {},
   "source": [
    "##### Answer the following question:\n"
   ]
  },
  {
   "cell_type": "markdown",
   "metadata": {},
   "source": [
    "**Question:** Does a predictable relationship exist between the lagged search traffic and the stock volatility or between the lagged search traffic and the stock price returns?\n",
    "\n",
    "**Answer:** # YOUR ANSWER HERE"
   ]
  },
  {
   "cell_type": "markdown",
   "metadata": {},
   "source": [
    "## Step 4: Create a Time Series Model with Prophet\n",
    "\n",
    "Now, you need to produce a time series model that analyzes and forecasts patterns in the hourly search data. To do so, complete the following steps:\n",
    "\n",
    "1. Set up the Google search data for a Prophet forecasting model.\n",
    "\n",
    "2. After estimating the model, plot the forecast. How's the near-term forecast for the popularity of MercadoLibre?\n",
    "\n",
    "3. Plot the individual time series components of the model to answer the following questions:\n",
    "\n",
    "    * What time of day exhibits the greatest popularity?\n",
    "\n",
    "    * Which day of the week gets the most search traffic?\n",
    "\n",
    "    * What's the lowest point for search traffic in the calendar year?\n"
   ]
  },
  {
   "cell_type": "markdown",
   "metadata": {},
   "source": [
    "#### Step 1: Set up the Google search data for a Prophet forecasting model."
   ]
  },
  {
   "cell_type": "code",
   "execution_count": null,
   "metadata": {},
   "outputs": [],
   "source": [
    "# Using the df_mercado_trends DataFrame, reset the index so the date information is no longer the index\n",
    "mercado_prophet_df = # YOUR CODE HERE\n",
    "\n",
    "# Label the columns ds and y so that the syntax is recognized by Prophet\n",
    "# YOUR CODE HERE\n",
    "\n",
    "# Drop an NaN values from the prophet_df DataFrame\n",
    "mercado_prophet_df = # YOUR CODE HERE\n",
    "\n",
    "# View the first and last five rows of the mercado_prophet_df DataFrame\n",
    "# YOUR CODE HERE\n"
   ]
  },
  {
   "cell_type": "code",
   "execution_count": null,
   "metadata": {},
   "outputs": [],
   "source": [
    "# Call the Prophet function, store as an object\n",
    "model_mercado_trends = # YOUR CODE HERE\n"
   ]
  },
  {
   "cell_type": "code",
   "execution_count": null,
   "metadata": {},
   "outputs": [],
   "source": [
    "# Fit the time-series model.\n",
    "# YOUR CODE HERE\n"
   ]
  },
  {
   "cell_type": "code",
   "execution_count": null,
   "metadata": {},
   "outputs": [],
   "source": [
    "# Create a future dataframe to hold predictions\n",
    "# Make the prediction go out as far as 2000 hours (approx 80 days)\n",
    "future_mercado_trends = # YOUR CODE HERE\n",
    "\n",
    "# View the last five rows of the future_mercado_trends DataFrame\n",
    "# YOUR CODE HERE\n"
   ]
  },
  {
   "cell_type": "code",
   "execution_count": null,
   "metadata": {},
   "outputs": [],
   "source": [
    "# Make the predictions for the trend data using the future_mercado_trends DataFrame\n",
    "forecast_mercado_trends = # YOUR CODE HERE\n",
    "\n",
    "# Display the first five rows of the forecast_mercado_trends DataFrame\n",
    "# YOUR CODE HERE\n"
   ]
  },
  {
   "cell_type": "markdown",
   "metadata": {},
   "source": [
    "#### Step 2: After estimating the model, plot the forecast. How's the near-term forecast for the popularity of MercadoLibre?"
   ]
  },
  {
   "cell_type": "code",
   "execution_count": null,
   "metadata": {},
   "outputs": [],
   "source": [
    "# Plot the Prophet predictions for the Mercado trends data\n",
    "# YOUR CODE HERE"
   ]
  },
  {
   "cell_type": "markdown",
   "metadata": {},
   "source": [
    "##### Answer the following question:"
   ]
  },
  {
   "cell_type": "markdown",
   "metadata": {},
   "source": [
    "**Question:**  How's the near-term forecast for the popularity of MercadoLibre?\n",
    "\n",
    "**Answer:** # YOUR ANSWER HERE\n"
   ]
  },
  {
   "cell_type": "markdown",
   "metadata": {},
   "source": [
    "#### Step 3: Plot the individual time series components of the model to answer the following questions:\n",
    "\n",
    "* What time of day exhibits the greatest popularity?\n",
    "\n",
    "* Which day of the week gets the most search traffic?\n",
    "\n",
    "* What's the lowest point for search traffic in the calendar year?\n"
   ]
  },
  {
   "cell_type": "code",
   "execution_count": null,
   "metadata": {},
   "outputs": [],
   "source": [
    "# Set the index in the forecast_mercado_trends DataFrame to the ds datetime column\n",
    "forecast_mercado_trends = # YOUR CODE HERE\n",
    "\n",
    "# View the only the yhat,yhat_lower and yhat_upper columns from the DataFrame\n",
    "# YOUR CODE HERE\n"
   ]
  },
  {
   "cell_type": "markdown",
   "metadata": {},
   "source": [
    "Solutions Note: `yhat` represents the most likely (average) forecast, whereas `yhat_lower` and `yhat_upper` represents the worst and best case prediction (based on what are known as 95% confidence intervals)."
   ]
  },
  {
   "cell_type": "code",
   "execution_count": null,
   "metadata": {},
   "outputs": [],
   "source": [
    "# Holoviews extension to render hvPlots in Colab\n",
    "hv.extension('bokeh')\n",
    "\n",
    "# From the forecast_mercado_trends DataFrame, use hvPlot to visualize\n",
    "#  the yhat, yhat_lower, and yhat_upper columns over the last 2000 hours \n",
    "# YOUR CODE HERE\n"
   ]
  },
  {
   "cell_type": "code",
   "execution_count": null,
   "metadata": {},
   "outputs": [],
   "source": [
    "# Reset the index in the forecast_mercado_trends DataFrame\n",
    "forecast_mercado_trends = # YOUR CODE HERE\n",
    "\n",
    "# Use the plot_components function to visualize the forecast results \n",
    "# for the forecast_canada DataFrame \n",
    "figures_mercado_trends = # YOUR CODE HERE\n"
   ]
  },
  {
   "cell_type": "markdown",
   "metadata": {},
   "source": [
    "##### Answer the following questions:"
   ]
  },
  {
   "cell_type": "markdown",
   "metadata": {},
   "source": [
    "**Question:** What time of day exhibits the greatest popularity?\n",
    "\n",
    "**Answer:** # YOUR ANSWER HERE"
   ]
  },
  {
   "cell_type": "markdown",
   "metadata": {},
   "source": [
    "**Question:** Which day of week gets the most search traffic? \n",
    "   \n",
    "**Answer:** # YOUR ANSWER HERE"
   ]
  },
  {
   "cell_type": "markdown",
   "metadata": {},
   "source": [
    "**Question:** What's the lowest point for search traffic in the calendar year?\n",
    "\n",
    "**Answer:** # YOUR ANSWER HERE\n"
   ]
  },
  {
   "cell_type": "markdown",
   "metadata": {},
   "source": [
    "## Step 5 (Optional): Forecast Revenue by Using Time Series Models\n",
    "\n",
    "A few weeks after your initial analysis, the finance group follows up to find out if you can help them solve a different problem. Your fame as a growth analyst in the company continues to grow!\n",
    "\n",
    "Specifically, the finance group wants a forecast of the total sales for the next quarter. This will dramatically increase their ability to plan budgets and to help guide expectations for the company investors.\n",
    "\n",
    "To do so, complete the following steps:\n",
    "\n",
    "1. Read in the daily historical sales (that is, revenue) figures, and then apply a Prophet model to the data. The daily sales figures are quoted in millions of USD dollars.\n",
    "\n",
    "2. Interpret the model output to identify any seasonal patterns in the company's revenue. For example, what are the peak revenue days? (Mondays? Fridays? Something else?)\n",
    "\n",
    "3. Produce a sales forecast for the finance group. Give them a number for the expected total sales in the next quarter. Include the best- and worst-case scenarios to help them make better plans.\n",
    "\n",
    "\n"
   ]
  },
  {
   "cell_type": "markdown",
   "metadata": {},
   "source": [
    "#### Step 1: Read in the daily historical sales (that is, revenue) figures, and then apply a Prophet model to the data."
   ]
  },
  {
   "cell_type": "code",
   "execution_count": null,
   "metadata": {},
   "outputs": [],
   "source": [
    "# Upload the \"mercado_daily_revenue.csv\" file into Colab, then store in a Pandas DataFrame\n",
    "# Set the \"date\" column as the DatetimeIndex\n",
    "# Sales are quoted in millions of US dollars\n",
    "from google.colab import files\n",
    "uploaded = files.upload()\n",
    "\n",
    "df_mercado_sales = # YOUR CODE HERE\n",
    "\n",
    "# Review the DataFrame\n",
    "# YOUR CODE HERE\n"
   ]
  },
  {
   "cell_type": "code",
   "execution_count": null,
   "metadata": {},
   "outputs": [],
   "source": [
    "# Holoviews extension to render hvPlots in Colab\n",
    "hv.extension('bokeh')\n",
    "\n",
    "# Use hvPlot to visualize the daily sales figures \n",
    "# YOUR CODE HERE\n"
   ]
  },
  {
   "cell_type": "code",
   "execution_count": null,
   "metadata": {},
   "outputs": [],
   "source": [
    "# Apply a Facebook Prophet model to the data.\n",
    "\n",
    "# Set up the dataframe in the neccessary format:\n",
    "# Reset the index so that date becomes a column in the DataFrame\n",
    "mercado_sales_prophet_df = # YOUR CODE HERE\n",
    "\n",
    "# Adjust the columns names to the Prophet syntax\n",
    "mercado_sales_prophet_df.columns = # YOUR CODE HERE\n",
    "\n",
    "# Visualize the DataFrame\n",
    "# YOUR CODE HERE\n"
   ]
  },
  {
   "cell_type": "code",
   "execution_count": null,
   "metadata": {},
   "outputs": [],
   "source": [
    "# Create the model\n",
    "mercado_sales_prophet_model = # YOUR CODE HERE\n",
    "\n",
    "# Fit the model\n",
    "# YOUR CODE HERE\n"
   ]
  },
  {
   "cell_type": "code",
   "execution_count": null,
   "metadata": {},
   "outputs": [],
   "source": [
    "# Predict sales for 90 days (1 quarter) out into the future.\n",
    "\n",
    "# Start by making a future dataframe\n",
    "mercado_sales_prophet_future = # YOUR CODE HERE\n",
    "\n",
    "# Display the last five rows of the future DataFrame\n",
    "# YOUR CODE HERE\n"
   ]
  },
  {
   "cell_type": "code",
   "execution_count": null,
   "metadata": {},
   "outputs": [],
   "source": [
    "# Make predictions for the sales each day over the next quarter\n",
    "mercado_sales_prophet_forecast = # YOUR CODE HERE\n",
    "\n",
    "# Display the first 5 rows of the resulting DataFrame\n",
    "# YOUR CODE HERE\n"
   ]
  },
  {
   "cell_type": "markdown",
   "metadata": {},
   "source": [
    "#### Step 2: Interpret the model output to identify any seasonal patterns in the company's revenue. For example, what are the peak revenue days? (Mondays? Fridays? Something else?)"
   ]
  },
  {
   "cell_type": "code",
   "execution_count": null,
   "metadata": {},
   "outputs": [],
   "source": [
    "# Use the plot_components function to analyze seasonal patterns in the company's revenue\n",
    "# YOUR CODE HERE\n"
   ]
  },
  {
   "cell_type": "markdown",
   "metadata": {},
   "source": [
    "##### Answer the following question:"
   ]
  },
  {
   "cell_type": "markdown",
   "metadata": {},
   "source": [
    "**Question:** For example, what are the peak revenue days? (Mondays? Fridays? Something else?)\n",
    "\n",
    "**Answer:** # YOUR ANSWER HERE"
   ]
  },
  {
   "cell_type": "markdown",
   "metadata": {},
   "source": [
    "#### Step 3: Produce a sales forecast for the finance group. Give them a number for the expected total sales in the next quarter. Include the best- and worst-case scenarios to help them make better plans."
   ]
  },
  {
   "cell_type": "code",
   "execution_count": null,
   "metadata": {},
   "outputs": [],
   "source": [
    "# Plot the predictions for the Mercado sales\n",
    "# YOUR CODE HERE\n"
   ]
  },
  {
   "cell_type": "code",
   "execution_count": null,
   "metadata": {},
   "outputs": [],
   "source": [
    "# For the mercado_sales_prophet_forecast DataFrame, set the ds column as the DataFrame Index\n",
    "mercado_sales_prophet_forecast = # YOUR CODE HERE\n",
    "\n",
    "# Display the first and last five rows of the DataFrame\n",
    "# YOUR CODE HERE\n"
   ]
  },
  {
   "cell_type": "code",
   "execution_count": null,
   "metadata": {},
   "outputs": [],
   "source": [
    "# Produce a sales forecast for the finance division\n",
    "# giving them a number for expected total sales next quarter.\n",
    "# Provide best case (yhat_upper), worst case (yhat_lower), and most likely (yhat) scenarios.\n",
    "\n",
    "# Create a forecast_quarter Dataframe for the period 2020-07-01 to 2020-09-30\n",
    "# The DataFrame should include the columns yhat_upper, yhat_lower, and yhat\n",
    "mercado_sales_forecast_quarter = # YOUR CODE HERE\n",
    "\n",
    "# Update the column names for the forecast_quarter DataFrame\n",
    "# to match what the finance division is looking for \n",
    "mercado_sales_forecast_quarter = # YOUR CODE HERE\n",
    "\n",
    "# Review the last five rows of the DataFrame\n",
    "# YOUR CODE HERE\n"
   ]
  },
  {
   "cell_type": "code",
   "execution_count": null,
   "metadata": {},
   "outputs": [],
   "source": [
    "# Displayed the summed values for all the rows in the forecast_quarter DataFrame\n",
    "# YOUR CODE HERE\n"
   ]
  },
  {
   "cell_type": "markdown",
   "metadata": {},
   "source": [
    "### Based on the forecast information generated above, produce a sales forecast for the finance division, giving them a number for expected total sales next quarter. Include best and worst case scenarios, to better help the finance team plan.\n",
    "\n",
    "**Answer:** # YOUR ANSWER HERE"
   ]
  },
  {
   "cell_type": "code",
   "execution_count": null,
   "metadata": {},
   "outputs": [],
   "source": []
  }
 ],
 "metadata": {
  "kernelspec": {
   "display_name": "Python 3",
   "language": "python",
   "name": "python3"
  },
  "language_info": {
   "codemirror_mode": {
    "name": "ipython",
    "version": 3
   },
   "file_extension": ".py",
   "mimetype": "text/x-python",
   "name": "python",
   "nbconvert_exporter": "python",
   "pygments_lexer": "ipython3",
   "version": "3.7.12"
  }
 },
 "nbformat": 4,
 "nbformat_minor": 4
}
